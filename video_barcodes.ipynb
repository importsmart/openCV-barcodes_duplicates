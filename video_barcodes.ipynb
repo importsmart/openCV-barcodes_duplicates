{
  "nbformat": 4,
  "nbformat_minor": 0,
  "metadata": {
    "colab": {
      "name": "video_barcodes.ipynb",
      "provenance": [],
      "authorship_tag": "ABX9TyM05MWadaEMxr9I1TXcZaxD"
    },
    "kernelspec": {
      "name": "python3",
      "display_name": "Python 3"
    }
  },
  "cells": [
    {
      "cell_type": "code",
      "metadata": {
        "id": "7dUs_L3nCGNM",
        "colab_type": "code",
        "colab": {}
      },
      "source": [
        "from imutils.video import count_frames"
      ],
      "execution_count": null,
      "outputs": []
    },
    {
      "cell_type": "code",
      "metadata": {
        "id": "QYLBfDVbH9gl",
        "colab_type": "code",
        "colab": {}
      },
      "source": [
        "import json\n",
        "import cv2"
      ],
      "execution_count": null,
      "outputs": []
    },
    {
      "cell_type": "code",
      "metadata": {
        "id": "4-YsLhx2CHtG",
        "colab_type": "code",
        "colab": {
          "base_uri": "https://localhost:8080/",
          "height": 121
        },
        "outputId": "0a3a6d24-a1b3-497c-b88f-69ca9947c688"
      },
      "source": [
        "from google.colab import drive\n",
        "drive.mount('/content/drive')"
      ],
      "execution_count": null,
      "outputs": [
        {
          "output_type": "stream",
          "text": [
            "Go to this URL in a browser: https://accounts.google.com/o/oauth2/auth?client_id=947318989803-6bn6qk8qdgf4n4g3pfee6491hc0brc4i.apps.googleusercontent.com&redirect_uri=urn%3aietf%3awg%3aoauth%3a2.0%3aoob&response_type=code&scope=email%20https%3a%2f%2fwww.googleapis.com%2fauth%2fdocs.test%20https%3a%2f%2fwww.googleapis.com%2fauth%2fdrive%20https%3a%2f%2fwww.googleapis.com%2fauth%2fdrive.photos.readonly%20https%3a%2f%2fwww.googleapis.com%2fauth%2fpeopleapi.readonly\n",
            "\n",
            "Enter your authorization code:\n",
            "··········\n",
            "Mounted at /content/drive\n"
          ],
          "name": "stdout"
        }
      ]
    },
    {
      "cell_type": "code",
      "metadata": {
        "id": "ypeHIrMyC4-u",
        "colab_type": "code",
        "colab": {
          "base_uri": "https://localhost:8080/",
          "height": 34
        },
        "outputId": "e57b19bd-95a8-4519-ea3c-715f5eec785c"
      },
      "source": [
        "path = \"/content/drive/My Drive/Coding/matrix1.mp4\"\n",
        "override = False\n",
        "\n",
        "\n",
        "total = count_frames(path, override=override)\n",
        "print(\"[INFO] {} total frames read from {}\".format(total,path))"
      ],
      "execution_count": null,
      "outputs": [
        {
          "output_type": "stream",
          "text": [
            "[INFO] 4832 total frames read from /content/drive/My Drive/Coding/f1.mp4\n"
          ],
          "name": "stdout"
        }
      ]
    },
    {
      "cell_type": "code",
      "metadata": {
        "id": "pVtfOOdqHbiF",
        "colab_type": "code",
        "colab": {
          "base_uri": "https://localhost:8080/",
          "height": 67
        },
        "outputId": "464449be-c2f2-4b83-c9fc-baea9f34c408"
      },
      "source": [
        "avgs = []\n",
        "read = 0\n",
        "skip = 25\n",
        "output = \"/content/drive/My Drive/Coding/output/f1.json\"\n",
        "\n",
        "print(\"[INFO] looping over frames in video\")\n",
        "video = cv2.VideoCapture(path)\n",
        "\n",
        "# loop over the frames of the video\n",
        "while True:\n",
        "\t# grab the current frame\n",
        "\t(grabbed, frame) = video.read()\n",
        " \n",
        "\t# check to see if we have reached the end of the\n",
        "\t# video\n",
        "\tif not grabbed:\n",
        "\t\tbreak\n",
        "\t# increment the total number of frames read\n",
        "\tread += 1\n",
        "\t# check to see if we should compute the average RGB value\n",
        "\t# of the current frame\n",
        "\tif skip == 0 or read % skip == 0:\n",
        "\t\tavg = cv2.mean(frame)[:3]\n",
        "\t\tavgs.append(avg)\n",
        "# release the video pointer\n",
        "video.release()\n",
        "\n",
        "# dump the frame averages to file\n",
        "print(\"[INFO] saving frame averages...\")\n",
        "f = open(output, \"w\")\n",
        "f.write(json.dumps(avgs))\n",
        "f.close()\n",
        "print(\"[INFO] {:,} total frame averages saved\".format(len(avgs)))"
      ],
      "execution_count": null,
      "outputs": [
        {
          "output_type": "stream",
          "text": [
            "[INFO] looping over frames in video\n",
            "[INFO] saving frame averages...\n",
            "[INFO] 193 total frame averages saved\n"
          ],
          "name": "stdout"
        }
      ]
    },
    {
      "cell_type": "code",
      "metadata": {
        "id": "m1Z63t_kIs-_",
        "colab_type": "code",
        "colab": {}
      },
      "source": [
        "import numpy as np\n",
        "from google.colab.patches import cv2_imshow"
      ],
      "execution_count": null,
      "outputs": []
    },
    {
      "cell_type": "code",
      "metadata": {
        "id": "CanvB8CwG16g",
        "colab_type": "code",
        "colab": {
          "base_uri": "https://localhost:8080/",
          "height": 284
        },
        "outputId": "f180fbcd-deb7-48d8-a5e3-b3df26ab9f92"
      },
      "source": [
        "img = \"/content/drive/My Drive/Coding/output/f1.png\"\n",
        "width = 5\n",
        "height = 250\n",
        "\n",
        "\n",
        "# load the averages file and convert it to a NumPy array\n",
        "avgs = json.loads(open(output).read())\n",
        "avgs = np.array(avgs, dtype=\"int\")\n",
        "# grab the individual bar width and allocate memory for\n",
        "# the barcode visualization\n",
        "bw = width\n",
        "barcode = np.zeros((height, len(avgs)*bw, 3), dtype='uint8')\n",
        "# loop over the averages and create a single 'bar' for\n",
        "# each frame average in the list\n",
        "for (i, avg) in enumerate(avgs):\n",
        "  start = (i*bw,0)\n",
        "  end = (i*bw+bw, height)\n",
        "  cv2.rectangle(barcode, start, end, avg.astype(\"uint8\").tolist(), -1)\n",
        "# write the video barcode visualization to file and then\n",
        "# display it to our screen\n",
        "cv2.imwrite(img, barcode)\n",
        "cv2_imshow(barcode)"
      ],
      "execution_count": null,
      "outputs": [
        {
          "output_type": "display_data",
          "data": {
            "image/png": "[encoded data removed]",
            "text/plain": [
              "<PIL.Image.Image image mode=RGB size=965x250 at 0x7F649A116AC8>"
            ]
          },
          "metadata": {
            "tags": []
          }
        },
        {
          "output_type": "execute_result",
          "data": {
            "text/plain": [
              "-1"
            ]
          },
          "metadata": {
            "tags": []
          },
          "execution_count": 37
        }
      ]
    },
    {
      "cell_type": "code",
      "metadata": {
        "id": "3wyMwc8XJ8C2",
        "colab_type": "code",
        "colab": {}
      },
      "source": [
        "drive.flush_and_unmount()"
      ],
      "execution_count": null,
      "outputs": []
    }
  ]
}
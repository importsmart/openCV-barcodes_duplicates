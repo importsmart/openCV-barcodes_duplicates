{
  "nbformat": 4,
  "nbformat_minor": 0,
  "metadata": {
    "colab": {
      "name": "database_barcode.ipynb",
      "provenance": [],
      "authorship_tag": "ABX9TyO+opPn4Zm0lK/SelfoyucB"
    },
    "kernelspec": {
      "name": "python3",
      "display_name": "Python 3"
    }
  },
  "cells": [
    {
      "cell_type": "code",
      "metadata": {
        "id": "PmDsOVh_PU9a",
        "colab_type": "code",
        "colab": {
          "base_uri": "https://localhost:8080/",
          "height": 121
        },
        "outputId": "73bf1a6e-ecd7-4bc4-c10a-81f64c51189a"
      },
      "source": [
        "from google.colab import drive\n",
        "drive.mount('/content/drive')"
      ],
      "execution_count": null,
      "outputs": [
        {
          "output_type": "stream",
          "text": [
            "Go to this URL in a browser: https://accounts.google.com/o/oauth2/auth?client_id=947318989803-6bn6qk8qdgf4n4g3pfee6491hc0brc4i.apps.googleusercontent.com&redirect_uri=urn%3aietf%3awg%3aoauth%3a2.0%3aoob&response_type=code&scope=email%20https%3a%2f%2fwww.googleapis.com%2fauth%2fdocs.test%20https%3a%2f%2fwww.googleapis.com%2fauth%2fdrive%20https%3a%2f%2fwww.googleapis.com%2fauth%2fdrive.photos.readonly%20https%3a%2f%2fwww.googleapis.com%2fauth%2fpeopleapi.readonly\n",
            "\n",
            "Enter your authorization code:\n",
            "··········\n",
            "Mounted at /content/drive\n"
          ],
          "name": "stdout"
        }
      ]
    },
    {
      "cell_type": "code",
      "metadata": {
        "id": "zu_ok4ZqQXvY",
        "colab_type": "code",
        "colab": {}
      },
      "source": [
        "import cv2\n",
        "import numpy as np\n",
        "from google.colab.patches import cv2_imshow\n",
        "from imutils import paths"
      ],
      "execution_count": null,
      "outputs": []
    },
    {
      "cell_type": "code",
      "metadata": {
        "id": "m0PPQHtyWGvV",
        "colab_type": "code",
        "colab": {}
      },
      "source": [
        "dataset = \"/content/drive/My Drive/Coding/detect_duplicate_dataset/dataset\"\n",
        "read = 0\n",
        "skip = 4\n",
        "avgs = []\n",
        "width = 5\n",
        "height = 250\n",
        "img = \"/content/drive/My Drive/Coding/output/images/database1.png\""
      ],
      "execution_count": null,
      "outputs": []
    },
    {
      "cell_type": "code",
      "metadata": {
        "id": "6yw0oTY1Wreb",
        "colab_type": "code",
        "colab": {
          "base_uri": "https://localhost:8080/",
          "height": 267
        },
        "outputId": "472ed330-3208-499a-e75b-248c1dc697d0"
      },
      "source": [
        "imagePaths = list(paths.list_images(dataset))\n",
        "\n",
        "for imagePath in imagePaths:\n",
        "  image = cv2.imread(imagePath)\n",
        "  read += 1\n",
        "\n",
        "  if skip == 0 or read % skip ==0:\n",
        "    avg = cv2.mean(image)[:3]\n",
        "    avgs.append(avg)\n",
        "  \n",
        "avgs = np.array(avgs, dtype=\"int\")\n",
        "\n",
        "bw = width\n",
        "barcode = np.zeros((height, len(avgs)*bw, 3), dtype='uint8')\n",
        "\n",
        "for (i, avg) in enumerate(avgs):\n",
        "  start = (i*bw,0)\n",
        "  end = (i*bw+bw, height)\n",
        "  cv2.rectangle(barcode, start, end, avg.astype(\"uint8\").tolist(), -1)\n",
        "\n",
        "cv2.imwrite(img, barcode)\n",
        "cv2_imshow(barcode)"
      ],
      "execution_count": null,
      "outputs": [
        {
          "output_type": "display_data",
          "data": {
            "image/png": "[encoded data removed]",
            "text/plain": [
              "<PIL.Image.Image image mode=RGB size=1240x250 at 0x7F6E3AADBF60>"
            ]
          },
          "metadata": {
            "tags": []
          }
        }
      ]
    },
    {
      "cell_type": "code",
      "metadata": {
        "id": "mx_d6uwwXzee",
        "colab_type": "code",
        "colab": {}
      },
      "source": [
        "drive.flush_and_unmount()"
      ],
      "execution_count": null,
      "outputs": []
    }
  ]
}
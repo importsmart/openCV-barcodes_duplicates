{
  "nbformat": 4,
  "nbformat_minor": 0,
  "metadata": {
    "colab": {
      "name": "duplicate_videos.ipynb",
      "provenance": [],
      "authorship_tag": "ABX9TyNlJjyviNy8x0qOFY5dq9sI"
    },
    "kernelspec": {
      "name": "python3",
      "display_name": "Python 3"
    }
  },
  "cells": [
    {
      "cell_type": "code",
      "metadata": {
        "id": "gg_W7vtj8xc4",
        "colab_type": "code",
        "colab": {
          "base_uri": "https://localhost:8080/",
          "height": 121
        },
        "outputId": "d6868dc7-bc8d-46c9-8131-b15927d051f8"
      },
      "source": [
        "from google.colab import drive\n",
        "drive.mount('/content/drive')"
      ],
      "execution_count": null,
      "outputs": [
        {
          "output_type": "stream",
          "text": [
            "Go to this URL in a browser: https://accounts.google.com/o/oauth2/auth?client_id=947318989803-6bn6qk8qdgf4n4g3pfee6491hc0brc4i.apps.googleusercontent.com&redirect_uri=urn%3aietf%3awg%3aoauth%3a2.0%3aoob&response_type=code&scope=email%20https%3a%2f%2fwww.googleapis.com%2fauth%2fdocs.test%20https%3a%2f%2fwww.googleapis.com%2fauth%2fdrive%20https%3a%2f%2fwww.googleapis.com%2fauth%2fdrive.photos.readonly%20https%3a%2f%2fwww.googleapis.com%2fauth%2fpeopleapi.readonly\n",
            "\n",
            "Enter your authorization code:\n",
            "··········\n",
            "Mounted at /content/drive\n"
          ],
          "name": "stdout"
        }
      ]
    },
    {
      "cell_type": "code",
      "metadata": {
        "id": "v0xwTD5b9V_U",
        "colab_type": "code",
        "colab": {}
      },
      "source": [
        "from imutils.video import count_frames\n",
        "from imutils import paths\n",
        "import numpy as np\n",
        "import cv2\n",
        "from google.colab.patches import cv2_imshow\n",
        "import os\n",
        "import json"
      ],
      "execution_count": null,
      "outputs": []
    },
    {
      "cell_type": "code",
      "metadata": {
        "id": "HYca0L-19-_x",
        "colab_type": "code",
        "colab": {}
      },
      "source": [
        "def dhash(image, hashSize=8):\n",
        "\tgray = cv2.cvtColor(image, cv2.COLOR_BGR2GRAY)\n",
        "\tresized = cv2.resize(gray, (hashSize + 1, hashSize))\n",
        "\n",
        "\tdiff = resized[:, 1:] > resized[:, :-1]\n",
        "\n",
        "\treturn sum([2 ** i for (i, v) in enumerate(diff.flatten()) if v])"
      ],
      "execution_count": null,
      "outputs": []
    },
    {
      "cell_type": "code",
      "metadata": {
        "id": "sYUkBK94CsRf",
        "colab_type": "code",
        "colab": {
          "base_uri": "https://localhost:8080/",
          "height": 34
        },
        "outputId": "985982d2-4030-4527-c5bf-27ba9285f133"
      },
      "source": [
        "path = \"/content/drive/My Drive/Coding/videos\"\n",
        "onlyfiles = [join(path,f) for f in listdir(path) if isfile(join(path, f))]\n",
        "print(onlyfiles)"
      ],
      "execution_count": null,
      "outputs": [
        {
          "output_type": "stream",
          "text": [
            "['/content/drive/My Drive/Coding/videos/matrix.mp4', '/content/drive/My Drive/Coding/videos/matrix1.mp4', '/content/drive/My Drive/Coding/videos/f1.mp4']\n"
          ],
          "name": "stdout"
        }
      ]
    },
    {
      "cell_type": "code",
      "metadata": {
        "id": "8bcl7sGj-JR0",
        "colab_type": "code",
        "colab": {}
      },
      "source": [
        "def makeBarcode(path, override = False, skip = 25, width = 5, height = 250):\n",
        "\n",
        "  total = count_frames(path, override=override)\n",
        "  avgs = []\n",
        "  read = 0\n",
        "\n",
        "  print(\"[INFO] looping over frames in video\")\n",
        "  video = cv2.VideoCapture(path)\n",
        "\n",
        "  while True:\n",
        "\t  (grabbed, frame) = video.read()\n",
        " \n",
        "\t  if not grabbed:\n",
        "\t\t  break\n",
        "\n",
        "\t  read += 1\n",
        "\n",
        "\t  if skip == 0 or read % skip == 0:\n",
        "\t\t  avg = cv2.mean(frame)[:3]\n",
        "\t\t  avgs.append(avg)\n",
        "\n",
        "  video.release()\n",
        "\n",
        "  avgs = np.array(avgs, dtype=\"int\")\n",
        "\n",
        "  bw = width\n",
        "  barcode = np.zeros((height, len(avgs)*bw, 3), dtype='uint8')\n",
        "\n",
        "  for (i, avg) in enumerate(avgs):\n",
        "    start = (i*bw,0)\n",
        "    end = (i*bw+bw, height)\n",
        "    cv2.rectangle(barcode, start, end, avg.astype(\"uint8\").tolist(), -1)\n",
        "\n",
        "  return barcode"
      ],
      "execution_count": null,
      "outputs": []
    },
    {
      "cell_type": "code",
      "metadata": {
        "id": "6R7sMhPPEWjT",
        "colab_type": "code",
        "colab": {
          "base_uri": "https://localhost:8080/",
          "height": 818
        },
        "outputId": "ea7a800e-1561-4d9d-a657-449c31d3cd6c"
      },
      "source": [
        "videoPaths = [join(path,f) for f in listdir(path) if isfile(join(path, f))]\n",
        "\n",
        "for videoPath in videoPaths:\n",
        "  barcode = makeBarcode(videoPath)\n",
        "  \n",
        "  filename=os.path.basename(os.path.splitext(videoPath)[0])\n",
        "  output = \"/content/drive/My Drive/Coding/output/images/\" + filename + \".png\"\n",
        "  \n",
        "  cv2.imwrite(output, barcode)\n",
        "  cv2_imshow(barcode)\n"
      ],
      "execution_count": null,
      "outputs": [
        {
          "output_type": "stream",
          "text": [
            "[INFO] looping over frames in video\n"
          ],
          "name": "stdout"
        },
        {
          "output_type": "display_data",
          "data": {
            "image/png": "[encoded data removed]",
            "text/plain": [
              "<PIL.Image.Image image mode=RGB size=900x250 at 0x7F4F15A86B70>"
            ]
          },
          "metadata": {
            "tags": []
          }
        },
        {
          "output_type": "stream",
          "text": [
            "[INFO] looping over frames in video\n"
          ],
          "name": "stdout"
        },
        {
          "output_type": "display_data",
          "data": {
            "image/png": "[encoded data removed]",
            "text/plain": [
              "<PIL.Image.Image image mode=RGB size=900x250 at 0x7F4F15A86AC8>"
            ]
          },
          "metadata": {
            "tags": []
          }
        },
        {
          "output_type": "stream",
          "text": [
            "[INFO] looping over frames in video\n"
          ],
          "name": "stdout"
        },
        {
          "output_type": "display_data",
          "data": {
            "image/png": "[encoded data removed]",
            "text/plain": [
              "<PIL.Image.Image image mode=RGB size=965x250 at 0x7F4F15A86978>"
            ]
          },
          "metadata": {
            "tags": []
          }
        }
      ]
    },
    {
      "cell_type": "code",
      "metadata": {
        "id": "x_q_ekgOAG9R",
        "colab_type": "code",
        "colab": {}
      },
      "source": [
        "dataset = \"/content/drive/My Drive/Coding/output/images\"\n",
        "\n",
        "hashes = {}\n",
        "imagePaths = list(paths.list_images(dataset))\n",
        "\n",
        "for imagePath in imagePaths:\n",
        "\timage = cv2.imread(imagePath)\n",
        "\th = dhash(image)\n",
        "\n",
        "\tp = hashes.get(h, [])\n",
        "\tp.append(imagePath)\n",
        "\thashes[h] = p"
      ],
      "execution_count": null,
      "outputs": []
    },
    {
      "cell_type": "code",
      "metadata": {
        "id": "VvqgvWhNK4wd",
        "colab_type": "code",
        "colab": {}
      },
      "source": [
        "remove = 1 #positive for removal\n",
        "\n",
        "for (h, hashedPaths) in hashes.items():\n",
        "  if len(hashedPaths) > 1:\n",
        "    if remove <= 0:\n",
        "      montage = None\n",
        "\n",
        "      for p in hashedPaths:\n",
        "        image = cv2.imread(p)\n",
        "        image = cv2.resize(image, (150,150))\n",
        "\n",
        "        if montage is None:\n",
        "          montage = image\n",
        "        else:\n",
        "          montage = np.hstack([montage,image])\n",
        "\n",
        "      print(\"[INFO] hash: {}\".format(h))\n",
        "      cv2_imshow(montage)\n",
        "    \n",
        "\n",
        "    else:\n",
        "      for p in hashedPaths[1:]:\n",
        "        os.remove(p)\n",
        "\n",
        "        filename = os.path.basename(os.path.splitext(p)[0])\n",
        "        vidpath = \"/content/drive/My Drive/Coding/videos/\" + filename + \".mp4\"\n",
        "        os.remove(vidpath)"
      ],
      "execution_count": null,
      "outputs": []
    },
    {
      "cell_type": "code",
      "metadata": {
        "id": "468sm6dXLGYl",
        "colab_type": "code",
        "colab": {}
      },
      "source": [
        "drive.flush_and_unmount()"
      ],
      "execution_count": null,
      "outputs": []
    }
  ]
}